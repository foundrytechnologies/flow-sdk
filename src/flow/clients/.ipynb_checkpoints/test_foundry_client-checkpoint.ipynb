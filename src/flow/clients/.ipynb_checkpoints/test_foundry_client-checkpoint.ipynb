{
 "cells": [
  {
   "cell_type": "code",
   "execution_count": null,
   "metadata": {},
   "outputs": [],
   "source": [
    "# Cell 1: Imports and Setup\n",
    "import logging\n",
    "import json\n",
    "from typing import Any, Dict, List, Optional, Tuple, Callable\n",
    "from pprint import pprint\n",
    "\n",
    "# Import your FoundryClient and related models\n",
    "from flow.clients.authenticator import Authenticator\n",
    "from flow.clients.fcp_client import FCPClient\n",
    "from flow.clients.storage_client import StorageClient\n",
    "from flow.utils.exceptions import APIError, AuthenticationError\n",
    "from flow.models import (\n",
    "    User,\n",
    "    Project,\n",
    "    Instance,\n",
    "    Auction,\n",
    "    SSHKey,\n",
    "    Bid,\n",
    "    BidPayload,\n",
    "    BidResponse,\n",
    "    DetailedInstanceType,\n",
    "    DiskAttachment,\n",
    "    DiskResponse,\n",
    "    RegionResponse,\n",
    "    StorageQuotaResponse,\n",
    ")\n",
    "from flow.clients.foundry_client import FoundryClient  # Adjust the import path as necessary\n",
    "\n",
    "# Configure logging\n",
    "logging.basicConfig(level=logging.DEBUG)\n",
    "logger = logging.getLogger(\"FoundryClientTest\")"
   ]
  },
  {
   "cell_type": "code",
   "execution_count": null,
   "metadata": {},
   "outputs": [],
   "source": []
  }
 ],
 "metadata": {
  "language_info": {
   "name": "python"
  }
 },
 "nbformat": 4,
 "nbformat_minor": 2
}
