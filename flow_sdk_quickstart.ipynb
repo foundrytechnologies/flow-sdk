{
 "cells": [
  {
   "cell_type": "markdown",
   "metadata": {},
   "source": [
    "# SDK Usage Notes \n",
    "\n",
    "For CLI notes and other information, see the README.md file in the root of the repository.\n",
    "\n",
    "1. This notebook shows a minimal end-to-end example: from logging in through placing and canceling a spot bid.  \n",
    "2. You can adapt or expand these steps. For instance, you might script your entire workflow using FlowTaskManager to parse configuration and automatically place bids.  \n",
    "\n",
    "You are now ready to leverage the Flow system for programmatic tasks, resource provisioning, and persistent storage management. Happy building!"
   ]
  },
  {
   "cell_type": "markdown",
   "metadata": {},
   "source": [
    "# Installation and Quickstart\n",
    "\n",
    "## Installation\n",
    "1. Ensure you have Python 3.11 or higher installed.  \n",
    "2. Install dependencies either by:  \n",
    "   - Using pdm (preferred):  \n",
    "     » pdm install  \n",
    "   - Or manually with pip:  \n",
    "     » pip install -r requirements.txt  \n",
    "\n",
    "## Quick-Start\n",
    "1. Configure Foundry environment variables, as described in src/flow/config/flow_config.py:  \n",
    "\n",
    "  **Authentication (choose one option):**\n",
    "\n",
    "   - Option 1 (Recommended): API Key\n",
    "      - export FOUNDRY_API_KEY='your_api_key' # Found in FCP Console → Settings → API Keys tab\n",
    "\n",
    "   - Option 2: Email/Password\n",
    "      - export FOUNDRY_EMAIL='your_email@example.com'  \n",
    "      - export FOUNDRY_PASSWORD='your_password'  \n",
    "\n",
    "\n",
    "2. Submit an example task using flow_example.yaml:\n",
    "   » flow submit flow_example.yaml\n",
    "\n",
    "3. Check the status of your submitted task:\n",
    "   » flow status\n",
    "\n",
    "---\n",
    "\n",
    "# Flow Quickstart Notebook\n",
    "\n",
    "This notebook demonstrates how to interact with the Flow system to:\n",
    "1. Authenticate and instantiate a Foundry client.\n",
    "2. Retrieve user & project information.\n",
    "3. Retrieve auctions and place/cancel spot bids.\n",
    "4. (Optionally) create persistent storage using StorageManager.\n",
    "\n",
    "Make sure you have your Flow library installed."
   ]
  },
  {
   "cell_type": "code",
   "execution_count": 1,
   "metadata": {},
   "outputs": [],
   "source": [
    "# If not installed, uncomment and install the Flow package.\n",
    "# !pdm install\n",
    "# !pip install flow"
   ]
  },
  {
   "cell_type": "code",
   "execution_count": 2,
   "metadata": {},
   "outputs": [
    {
     "name": "stderr",
     "output_type": "stream",
     "text": [
      "2025-02-04 14:02:16,383 | __main__ | INFO | Starting Flow SDK Quickstart...\n"
     ]
    }
   ],
   "source": [
    "# 1) Imports and Initialization\n",
    "\n",
    "import logging\n",
    "import os\n",
    "from typing import Any, Dict, List\n",
    "\n",
    "# 3rd-party library for printing tables. Install via:\n",
    "# !pip install tabulate\n",
    "from tabulate import tabulate\n",
    "\n",
    "# Example modules from your Flow environment.\n",
    "from flow.clients.foundry_client import FoundryClient\n",
    "from flow.managers.storage_manager import StorageManager\n",
    "from flow.models import PersistentStorage, PersistentStorageCreate\n",
    "from flow.models import SshKey\n",
    "\n",
    "# Optional: Additional managers you can look into or extend if you need advanced functionality\n",
    "# from flow.managers.task_manager import FlowTaskManager\n",
    "# from flow.managers.auction_finder import AuctionFinder\n",
    "# from flow.managers.bid_manager import BidManager\n",
    "\n",
    "\n",
    "# Configure logging to show detailed information (INFO level).\n",
    "logging.basicConfig(\n",
    "    level=logging.INFO, format=\"%(asctime)s | %(name)s | %(levelname)s | %(message)s\"\n",
    ")\n",
    "\n",
    "logger = logging.getLogger(__name__)\n",
    "logger.info(\"Starting Flow SDK Quickstart...\")"
   ]
  },
  {
   "cell_type": "code",
   "execution_count": 3,
   "metadata": {},
   "outputs": [
    {
     "name": "stdout",
     "output_type": "stream",
     "text": [
      "Credentials present (API key or email/password).\n"
     ]
    }
   ],
   "source": [
    "def check_required_env_vars():\n",
    "    \"\"\"\n",
    "    Checks that either an API key or email/password environment variables are set.\n",
    "    Raises an EnvironmentError with a clear message if neither is set.\n",
    "    \"\"\"\n",
    "    import os\n",
    "\n",
    "    api_key = os.getenv(\"FOUNDRY_API_KEY\")\n",
    "    email = os.getenv(\"FOUNDRY_EMAIL\")\n",
    "    password = os.getenv(\"FOUNDRY_PASSWORD\")\n",
    "\n",
    "    if not api_key and (not email or not password):\n",
    "        raise EnvironmentError(\n",
    "            \"Missing credentials. Please set either:\\n\"\n",
    "            \" • FOUNDRY_API_KEY, or\\n\"\n",
    "            \" • FOUNDRY_EMAIL and FOUNDRY_PASSWORD.\"\n",
    "        )\n",
    "    else:\n",
    "        print(\"Credentials present (API key or email/password).\")\n",
    "\n",
    "\n",
    "# Just to confirm these are configured before anything else:\n",
    "check_required_env_vars()"
   ]
  },
  {
   "cell_type": "code",
   "execution_count": 4,
   "metadata": {},
   "outputs": [],
   "source": [
    "# 1) Initialize Foundry Client\n",
    "def initialize_foundry_client() -> FoundryClient:\n",
    "    \"\"\"Initializes and returns a FoundryClient instance.\n",
    "\n",
    "    Returns:\n",
    "        A FoundryClient configured with credentials from environment variables.\n",
    "        Uses API key if available; otherwise, uses email/password.\n",
    "    \"\"\"\n",
    "    import os\n",
    "    from flow.clients.foundry_client import FoundryClient\n",
    "\n",
    "    email = os.getenv(\"FOUNDRY_EMAIL\")\n",
    "    password = os.getenv(\"FOUNDRY_PASSWORD\")\n",
    "    api_key = os.getenv(\"FOUNDRY_API_KEY\")\n",
    "\n",
    "    # Either api_key is provided, or email/password must be valid.\n",
    "    if not api_key and (not email or not password):\n",
    "        logger.error(\n",
    "            \"Either FOUNDRY_API_KEY or FOUNDRY_EMAIL/FOUNDRY_PASSWORD must be set.\"\n",
    "        )\n",
    "        raise ValueError(\"Missing Foundry credentials in environment variables.\")\n",
    "\n",
    "    client = FoundryClient(email=email, password=password, api_key=api_key)\n",
    "    logger.info(\"Foundry client initialized successfully.\")\n",
    "    return client"
   ]
  },
  {
   "cell_type": "code",
   "execution_count": 5,
   "metadata": {},
   "outputs": [
    {
     "name": "stderr",
     "output_type": "stream",
     "text": [
      "2025-02-04 14:02:18,289 | flow.clients.authenticator | INFO | User authenticated successfully; access token retrieved.\n",
      "2025-02-04 14:02:20,552 | flow.clients.fcp_client | INFO | FCPClient initialized successfully for user_id=7f59f654-8f1a-47c3-9b2f-85e89b30575e\n",
      "2025-02-04 14:02:20,553 | flow.clients.foundry_client | INFO | FoundryClient initialized successfully.\n",
      "2025-02-04 14:02:20,554 | __main__ | INFO | Foundry client initialized successfully.\n"
     ]
    }
   ],
   "source": [
    "foundry_client = initialize_foundry_client()"
   ]
  },
  {
   "cell_type": "code",
   "execution_count": 6,
   "metadata": {},
   "outputs": [],
   "source": [
    "# 2) Retrieve User and Project Information\n",
    "\n",
    "\n",
    "def get_user_and_project(\n",
    "    foundry_client: FoundryClient,\n",
    "    project_name: str,\n",
    ") -> Dict[str, Any]:\n",
    "    \"\"\"Fetches user details and the first available project.\n",
    "\n",
    "    Args:\n",
    "        foundry_client: An authenticated FoundryClient instance.\n",
    "\n",
    "    Returns:\n",
    "        A dictionary containing user info and selected project info.\n",
    "\n",
    "    Raises:\n",
    "        RuntimeError: If no projects are found for the user.\n",
    "    \"\"\"\n",
    "    user = foundry_client.get_user()\n",
    "    logger.info(\"Authenticated as User ID: %s\", user.id)\n",
    "\n",
    "    project = foundry_client.get_project_by_name(project_name=project_name)\n",
    "    if not project:\n",
    "        logger.error(\"Project not found for this user.\")\n",
    "        raise RuntimeError(\"Specified project not found for this user.\")\n",
    "\n",
    "    logger.info(\"Selected Project: %s (ID: %s)\", project.name, project.id)\n",
    "\n",
    "    return {\"user\": user, \"selected_project\": project}"
   ]
  },
  {
   "cell_type": "code",
   "execution_count": 8,
   "metadata": {},
   "outputs": [
    {
     "name": "stdin",
     "output_type": "stream",
     "text": [
      "Please enter your Foundry project name:  test\n"
     ]
    }
   ],
   "source": [
    "foundry_project_name = input(\"Please enter your Foundry project name: \")"
   ]
  },
  {
   "cell_type": "code",
   "execution_count": 9,
   "metadata": {},
   "outputs": [],
   "source": [
    "# Ensure that the user has set the foundry_project_name variable.\n",
    "try:\n",
    "    foundry_project_name\n",
    "except NameError:\n",
    "    raise NameError(\n",
    "        \"The variable 'foundry_project_name' is not defined. \"\n",
    "        \"Please define it with your Foundry project name before proceeding. \"\n",
    "        \"For example:\\n\\nfoundry_project_name = 'your_project_name_here' or via the interactive prompt above\"\n",
    "    )"
   ]
  },
  {
   "cell_type": "code",
   "execution_count": 10,
   "metadata": {},
   "outputs": [
    {
     "name": "stderr",
     "output_type": "stream",
     "text": [
      "2025-02-04 14:14:29,078 | __main__ | INFO | Authenticated as User ID: 7f59f654-8f1a-47c3-9b2f-85e89b30575e\n",
      "2025-02-04 14:14:29,975 | flow.clients.fcp_client | ERROR | No project found with name='<your_foundry_project_name>'\n"
     ]
    },
    {
     "ename": "ValueError",
     "evalue": "No project found with name: <your_foundry_project_name>",
     "output_type": "error",
     "traceback": [
      "\u001b[0;31m---------------------------------------------------------------------------\u001b[0m",
      "\u001b[0;31mValueError\u001b[0m                                Traceback (most recent call last)",
      "Cell \u001b[0;32mIn[10], line 1\u001b[0m\n\u001b[0;32m----> 1\u001b[0m info \u001b[38;5;241m=\u001b[39m \u001b[43mget_user_and_project\u001b[49m\u001b[43m(\u001b[49m\n\u001b[1;32m      2\u001b[0m \u001b[43m    \u001b[49m\u001b[43mfoundry_client\u001b[49m\u001b[38;5;241;43m=\u001b[39;49m\u001b[43mfoundry_client\u001b[49m\u001b[43m,\u001b[49m\n\u001b[1;32m      3\u001b[0m \u001b[43m    \u001b[49m\u001b[43mproject_name\u001b[49m\u001b[38;5;241;43m=\u001b[39;49m\u001b[38;5;124;43m\"\u001b[39;49m\u001b[38;5;124;43m<your_foundry_project_name>\u001b[39;49m\u001b[38;5;124;43m\"\u001b[39;49m\u001b[43m,\u001b[49m\u001b[43m  \u001b[49m\u001b[38;5;66;43;03m## TODO: set_this given your project name, viewable from the console\u001b[39;49;00m\n\u001b[1;32m      4\u001b[0m \u001b[43m)\u001b[49m\n\u001b[1;32m      5\u001b[0m user \u001b[38;5;241m=\u001b[39m info[\u001b[38;5;124m\"\u001b[39m\u001b[38;5;124muser\u001b[39m\u001b[38;5;124m\"\u001b[39m]\n\u001b[1;32m      6\u001b[0m selected_project \u001b[38;5;241m=\u001b[39m info[\u001b[38;5;124m\"\u001b[39m\u001b[38;5;124mselected_project\u001b[39m\u001b[38;5;124m\"\u001b[39m]\n",
      "Cell \u001b[0;32mIn[6], line 22\u001b[0m, in \u001b[0;36mget_user_and_project\u001b[0;34m(foundry_client, project_name)\u001b[0m\n\u001b[1;32m     19\u001b[0m user \u001b[38;5;241m=\u001b[39m foundry_client\u001b[38;5;241m.\u001b[39mget_user()\n\u001b[1;32m     20\u001b[0m logger\u001b[38;5;241m.\u001b[39minfo(\u001b[38;5;124m\"\u001b[39m\u001b[38;5;124mAuthenticated as User ID: \u001b[39m\u001b[38;5;132;01m%s\u001b[39;00m\u001b[38;5;124m\"\u001b[39m, user\u001b[38;5;241m.\u001b[39mid)\n\u001b[0;32m---> 22\u001b[0m project \u001b[38;5;241m=\u001b[39m \u001b[43mfoundry_client\u001b[49m\u001b[38;5;241;43m.\u001b[39;49m\u001b[43mget_project_by_name\u001b[49m\u001b[43m(\u001b[49m\u001b[43mproject_name\u001b[49m\u001b[38;5;241;43m=\u001b[39;49m\u001b[43mproject_name\u001b[49m\u001b[43m)\u001b[49m\n\u001b[1;32m     23\u001b[0m \u001b[38;5;28;01mif\u001b[39;00m \u001b[38;5;129;01mnot\u001b[39;00m project:\n\u001b[1;32m     24\u001b[0m     logger\u001b[38;5;241m.\u001b[39merror(\u001b[38;5;124m\"\u001b[39m\u001b[38;5;124mProject not found for this user.\u001b[39m\u001b[38;5;124m\"\u001b[39m)\n",
      "File \u001b[0;32m~/Documents/experimental/flow-sdk/src/flow/clients/foundry_client.py:115\u001b[0m, in \u001b[0;36mFoundryClient.get_project_by_name\u001b[0;34m(self, project_name)\u001b[0m\n\u001b[1;32m    103\u001b[0m \u001b[38;5;250m\u001b[39m\u001b[38;5;124;03m\"\"\"Retrieve a project by its name.\u001b[39;00m\n\u001b[1;32m    104\u001b[0m \n\u001b[1;32m    105\u001b[0m \u001b[38;5;124;03mArgs:\u001b[39;00m\n\u001b[0;32m   (...)\u001b[0m\n\u001b[1;32m    112\u001b[0m \u001b[38;5;124;03m    ValueError: If no project with the specified name is found.\u001b[39;00m\n\u001b[1;32m    113\u001b[0m \u001b[38;5;124;03m\"\"\"\u001b[39;00m\n\u001b[1;32m    114\u001b[0m \u001b[38;5;28mself\u001b[39m\u001b[38;5;241m.\u001b[39m_logger\u001b[38;5;241m.\u001b[39mdebug(\u001b[38;5;124m\"\u001b[39m\u001b[38;5;124mLooking up project by name=\u001b[39m\u001b[38;5;132;01m%s\u001b[39;00m\u001b[38;5;124m\"\u001b[39m, project_name)\n\u001b[0;32m--> 115\u001b[0m \u001b[38;5;28;01mreturn\u001b[39;00m \u001b[38;5;28;43mself\u001b[39;49m\u001b[38;5;241;43m.\u001b[39;49m\u001b[43mfcp_client\u001b[49m\u001b[38;5;241;43m.\u001b[39;49m\u001b[43mget_project_by_name\u001b[49m\u001b[43m(\u001b[49m\u001b[43mproject_name\u001b[49m\u001b[38;5;241;43m=\u001b[39;49m\u001b[43mproject_name\u001b[49m\u001b[43m)\u001b[49m\n",
      "File \u001b[0;32m~/Documents/experimental/flow-sdk/src/flow/clients/fcp_client.py:618\u001b[0m, in \u001b[0;36mFCPClient.get_project_by_name\u001b[0;34m(self, project_name)\u001b[0m\n\u001b[1;32m    609\u001b[0m \u001b[38;5;28;01mdef\u001b[39;00m \u001b[38;5;21mget_project_by_name\u001b[39m(\u001b[38;5;28mself\u001b[39m, project_name: \u001b[38;5;28mstr\u001b[39m) \u001b[38;5;241m-\u001b[39m\u001b[38;5;241m>\u001b[39m Project:\n\u001b[1;32m    610\u001b[0m \u001b[38;5;250m    \u001b[39m\u001b[38;5;124;03m\"\"\"Retrieve a project by name.\u001b[39;00m\n\u001b[1;32m    611\u001b[0m \n\u001b[1;32m    612\u001b[0m \u001b[38;5;124;03m    Args:\u001b[39;00m\n\u001b[0;32m   (...)\u001b[0m\n\u001b[1;32m    616\u001b[0m \u001b[38;5;124;03m        Project: A validated Project model instance matching the given name.\u001b[39;00m\n\u001b[1;32m    617\u001b[0m \u001b[38;5;124;03m    \"\"\"\u001b[39;00m\n\u001b[0;32m--> 618\u001b[0m     \u001b[38;5;28;01mreturn\u001b[39;00m \u001b[38;5;28;43mself\u001b[39;49m\u001b[38;5;241;43m.\u001b[39;49m\u001b[43mprojects\u001b[49m\u001b[38;5;241;43m.\u001b[39;49m\u001b[43mget_project_by_name\u001b[49m\u001b[43m(\u001b[49m\u001b[43mproject_name\u001b[49m\u001b[43m)\u001b[49m\n",
      "File \u001b[0;32m~/Documents/experimental/flow-sdk/src/flow/clients/fcp_client.py:207\u001b[0m, in \u001b[0;36mProjectService.get_project_by_name\u001b[0;34m(self, project_name)\u001b[0m\n\u001b[1;32m    205\u001b[0m         \u001b[38;5;28;01mreturn\u001b[39;00m project\n\u001b[1;32m    206\u001b[0m \u001b[38;5;28mself\u001b[39m\u001b[38;5;241m.\u001b[39m_logger\u001b[38;5;241m.\u001b[39merror(\u001b[38;5;124m\"\u001b[39m\u001b[38;5;124mNo project found with name=\u001b[39m\u001b[38;5;124m'\u001b[39m\u001b[38;5;132;01m%s\u001b[39;00m\u001b[38;5;124m'\u001b[39m\u001b[38;5;124m\"\u001b[39m, project_name)\n\u001b[0;32m--> 207\u001b[0m \u001b[38;5;28;01mraise\u001b[39;00m \u001b[38;5;167;01mValueError\u001b[39;00m(\u001b[38;5;124mf\u001b[39m\u001b[38;5;124m\"\u001b[39m\u001b[38;5;124mNo project found with name: \u001b[39m\u001b[38;5;132;01m{\u001b[39;00mproject_name\u001b[38;5;132;01m}\u001b[39;00m\u001b[38;5;124m\"\u001b[39m)\n",
      "\u001b[0;31mValueError\u001b[0m: No project found with name: <your_foundry_project_name>"
     ]
    }
   ],
   "source": [
    "info = get_user_and_project(\n",
    "    foundry_client=foundry_client,\n",
    "    project_name=foundry_project_name,\n",
    ")\n",
    "user = info[\"user\"]\n",
    "selected_project = info[\"selected_project\"]\n",
    "project_id = selected_project.id"
   ]
  },
  {
   "cell_type": "code",
   "execution_count": null,
   "metadata": {},
   "outputs": [],
   "source": [
    "# # 3) List Instances in the Selected Project\n",
    "\n",
    "# We fetch all instances grouped by category, then print the total count and\n",
    "# display them in a structured table for clarity.\n",
    "\n",
    "\n",
    "def list_instances_in_project(\n",
    "    foundry_client: FoundryClient, project_id: str\n",
    ") -> Dict[str, List[Any]]:\n",
    "    \"\"\"Fetches instances for a given project, returning them as a category->list dictionary.\n",
    "\n",
    "    Args:\n",
    "        foundry_client: An authenticated FoundryClient instance.\n",
    "        project_id: The unique identifier of the project.\n",
    "\n",
    "    Returns:\n",
    "        A dictionary where keys are categories and values are lists of instance objects.\n",
    "    \"\"\"\n",
    "    instances_dict = foundry_client.get_instances(project_id=project_id)\n",
    "    logger.info(\"Successfully retrieved instances for project ID: %s\", project_id)\n",
    "    return instances_dict\n",
    "\n",
    "\n",
    "def print_total_instance_count(instances_dict: Dict[str, List[Any]]) -> None:\n",
    "    \"\"\"Calculates and logs the total number of instances across all categories.\n",
    "\n",
    "    Args:\n",
    "        instances_dict: A dictionary containing category->list of instance objects.\n",
    "    \"\"\"\n",
    "    total_instances = sum(len(instances) for instances in instances_dict.values())\n",
    "    logger.info(\"Total Instances in project: %d\", total_instances)\n",
    "\n",
    "\n",
    "def print_instances_table(instances_dict: Dict[str, List[Any]]) -> None:\n",
    "    \"\"\"Prints all instances in a structured table format.\n",
    "\n",
    "    Args:\n",
    "        instances_dict: A dictionary containing category->list of instance objects.\n",
    "                        Each instance is expected to have attributes:\n",
    "                        instance_id, name, and instance_status.\n",
    "    \"\"\"\n",
    "    table_rows = []\n",
    "    for category, instance_list in instances_dict.items():\n",
    "        for instance in instance_list:\n",
    "            table_rows.append(\n",
    "                [\n",
    "                    category,\n",
    "                    instance.instance_id,\n",
    "                    instance.name,\n",
    "                    instance.instance_status,\n",
    "                ]\n",
    "            )\n",
    "\n",
    "    headers = [\"Category\", \"Instance ID\", \"Name\", \"Status\"]\n",
    "    table_str = tabulate(table_rows, headers=headers, tablefmt=\"github\")\n",
    "    print(table_str)  # Or use logging if you prefer to log this output."
   ]
  },
  {
   "cell_type": "code",
   "execution_count": null,
   "metadata": {},
   "outputs": [],
   "source": [
    "# 3) List Instances in the Selected Project\n",
    "instances_dict = list_instances_in_project(foundry_client, project_id)\n",
    "print_total_instance_count(instances_dict)\n",
    "print_instances_table(instances_dict)\n",
    "\n",
    "logger.info(\"Flow environment set up and instance listing completed successfully.\")"
   ]
  },
  {
   "cell_type": "code",
   "execution_count": null,
   "metadata": {},
   "outputs": [],
   "source": [
    "# Optional: Example storage manager usage\n",
    "storage_manager = StorageManager(foundry_client=foundry_client)\n",
    "logger.info(\"Storage manager initialized.\")"
   ]
  },
  {
   "cell_type": "code",
   "execution_count": null,
   "metadata": {},
   "outputs": [],
   "source": [
    "# 4) Retrieve Spot Auctions\n",
    "from tabulate import tabulate\n",
    "from typing import List\n",
    "from flow.models import Auction\n",
    "\n",
    "\n",
    "def display_auctions_pretty(auctions: List[Auction], max_rows: int = 5) -> None:\n",
    "    \"\"\"\n",
    "    Display the given auctions in a table.\n",
    "\n",
    "    Args:\n",
    "        auctions: A list of Auction objects.\n",
    "        max_rows: Maximum number of auctions to display to avoid overwhelming output.\n",
    "                  Set to a large number (or None) to show all.\n",
    "    \"\"\"\n",
    "    if not auctions:\n",
    "        print(\"No auctions to display.\")\n",
    "        return\n",
    "\n",
    "    # Limit how many rows we show (for readability).\n",
    "    auctions_to_show = auctions[:max_rows]\n",
    "\n",
    "    # Prepare rows for tabulation.\n",
    "    table_data = []\n",
    "    for idx, auction in enumerate(auctions_to_show, start=1):\n",
    "        table_data.append(\n",
    "            [\n",
    "                idx,\n",
    "                auction.cluster_id,\n",
    "                auction.gpu_type or \"N/A\",\n",
    "                auction.inventory_quantity or 0,\n",
    "                auction.last_price if auction.last_price is not None else \"N/A\",\n",
    "                auction.region or \"N/A\",\n",
    "            ]\n",
    "        )\n",
    "\n",
    "    # Define table headers.\n",
    "    headers = [\"#\", \"Cluster ID\", \"GPU Type\", \"Inventory Qty\", \"Last Price\", \"Region\"]\n",
    "\n",
    "    # Print in a compact, readable table.\n",
    "    print(tabulate(table_data, headers=headers, tablefmt=\"fancy_grid\"))\n",
    "\n",
    "    # Inform the user if there are more rows not shown.\n",
    "    if len(auctions) > max_rows:\n",
    "        print(f\"\\nShowing only the first {max_rows} of {len(auctions)} auctions.\")\n",
    "        print(\"Increase `max_rows` if you need to see more.\\n\")"
   ]
  },
  {
   "cell_type": "code",
   "execution_count": null,
   "metadata": {},
   "outputs": [],
   "source": [
    "auctions = foundry_client.get_auctions(project_id=project_id)\n",
    "display_auctions_pretty(auctions, max_rows=10)"
   ]
  },
  {
   "cell_type": "code",
   "execution_count": null,
   "metadata": {},
   "outputs": [],
   "source": [
    "# 5) Retrieve SSH Keys\n",
    "\n",
    "\n",
    "def display_ssh_keys(ssh_keys: List[SshKey]) -> None:\n",
    "    \"\"\"Display available SSH keys in a user-friendly table.\n",
    "\n",
    "    Args:\n",
    "        ssh_keys: A list of SshKey objects.\n",
    "    \"\"\"\n",
    "    if not ssh_keys:\n",
    "        logger.info(\"No SSH keys to display.\")\n",
    "        return\n",
    "\n",
    "    table_data = []\n",
    "    for idx, key in enumerate(ssh_keys, start=1):\n",
    "        table_data.append([idx, key.id, key.name])\n",
    "\n",
    "    headers = [\"#\", \"Key ID\", \"Name\"]\n",
    "    print(tabulate(table_data, headers=headers, tablefmt=\"fancy_grid\"))\n",
    "    logger.info(\"Displayed %d SSH key(s).\", len(ssh_keys))\n",
    "\n",
    "\n",
    "def get_first_ssh_key(foundry_client: FoundryClient, project_id: str) -> SshKey:\n",
    "    \"\"\"Retrieves the first available SSH key for demonstration.\n",
    "\n",
    "    Args:\n",
    "        foundry_client: The client used to interface with Foundry.\n",
    "        project_id: The project ID to fetch SSH keys from.\n",
    "\n",
    "    Returns:\n",
    "        The first SSH key found.\n",
    "\n",
    "    Raises:\n",
    "        RuntimeError: If no SSH keys exist for the given project.\n",
    "    \"\"\"\n",
    "    ssh_keys = foundry_client.get_ssh_keys(project_id=project_id)\n",
    "    if not ssh_keys:\n",
    "        logger.error(\"No SSH keys found. Upload or create one in the Foundry UI.\")\n",
    "        raise RuntimeError(\"No SSH keys found.\")\n",
    "\n",
    "    display_ssh_keys(ssh_keys)\n",
    "    chosen_key = ssh_keys[0]\n",
    "    logger.info(\"Using SSH key '%s' (ID: %s)\", chosen_key.name, chosen_key.id)\n",
    "    return chosen_key\n",
    "\n",
    "\n",
    "ssh_key = get_first_ssh_key(foundry_client, project_id)"
   ]
  },
  {
   "cell_type": "code",
   "execution_count": null,
   "metadata": {},
   "outputs": [],
   "source": [
    "# 6) Place a Spot Bid\n",
    "\n",
    "# For demonstration, we place a bid on the first available auction (if any).\n",
    "if not auctions:\n",
    "    raise RuntimeError(\"No auctions available to bid on.\")\n",
    "auction = auctions[0]"
   ]
  },
  {
   "cell_type": "code",
   "execution_count": null,
   "metadata": {},
   "outputs": [],
   "source": [
    "auction"
   ]
  },
  {
   "cell_type": "code",
   "execution_count": null,
   "metadata": {},
   "outputs": [],
   "source": [
    "import random\n",
    "import string\n",
    "\n",
    "\n",
    "def generate_random_suffix(length=8):\n",
    "    \"\"\"Generates a random alphanumeric suffix of a specified length.\"\"\"\n",
    "    letters_and_digits = string.ascii_lowercase + string.digits\n",
    "    return \"\".join(random.choice(letters_and_digits) for i in range(length))\n",
    "\n",
    "\n",
    "random_suffix = generate_random_suffix()\n",
    "order_name = f\"demo-spot-order-0-{random_suffix}\"\n",
    "print(order_name)"
   ]
  },
  {
   "cell_type": "code",
   "execution_count": null,
   "metadata": {},
   "outputs": [],
   "source": [
    "limit_price_cents = 999  # e.g. $9.99\n",
    "instance_quantity = 1\n",
    "startup_script = \"\"  # e.g. could pass shell commands to configure the instance\n",
    "\n",
    "# Construct a bid payload\n",
    "from flow.models import BidPayload\n",
    "\n",
    "bid_payload = BidPayload(\n",
    "    cluster_id=auction.id,\n",
    "    instance_quantity=instance_quantity,\n",
    "    instance_type_id=auction.instance_type_id,\n",
    "    limit_price_cents=limit_price_cents,\n",
    "    order_name=order_name,\n",
    "    project_id=project_id,\n",
    "    ssh_key_ids=[ssh_key.id],\n",
    "    startup_script=startup_script,\n",
    "    user_id=user.id,\n",
    ")\n",
    "\n",
    "# Now place the bid using the FCPClient under the hood\n",
    "bid_response = foundry_client.place_bid(project_id=project_id, bid_payload=bid_payload)\n",
    "\n",
    "print(\"Bid placed successfully:\", bid_response.model_dump())"
   ]
  },
  {
   "cell_type": "code",
   "execution_count": null,
   "metadata": {},
   "outputs": [],
   "source": [
    "# 7) Cancel a Spot Bid (optional)\n",
    "\n",
    "# If you want to cancel what you just placed:\n",
    "bid_id = bid_response.id\n",
    "print(f\"Cancelling bid with ID: {bid_id}\")\n",
    "\n",
    "foundry_client.cancel_bid(project_id=project_id, bid_id=bid_id)\n",
    "print(\"Bid cancelled successfully!\")"
   ]
  },
  {
   "cell_type": "code",
   "execution_count": null,
   "metadata": {},
   "outputs": [],
   "source": [
    "# 8) Create Persistent Storage (optional)\n",
    "\n",
    "# If your Flow config or use case includes creating persistent storage, you can do so\n",
    "# using the StorageManager. For example:\n",
    "\n",
    "persistent_storage = PersistentStorage(\n",
    "    create=PersistentStorageCreate(\n",
    "        volume_name=\"test-volume\", size=10, size_unit=\"GB\"  # e.g. 10GB\n",
    "    )\n",
    ")\n",
    "\n",
    "# Attempt to create the disk\n",
    "disk_attachment = storage_manager.handle_persistent_storage(\n",
    "    project_id=project_id,\n",
    "    persistent_storage=persistent_storage,\n",
    "    region_id=None,  # or specify a region if you know it\n",
    ")\n",
    "\n",
    "if disk_attachment:\n",
    "    print(\"Persistent storage created with disk ID:\", disk_attachment.disk_id)\n",
    "else:\n",
    "    print(\"No persistent storage was requested/created.\")"
   ]
  },
  {
   "cell_type": "code",
   "execution_count": null,
   "metadata": {},
   "outputs": [],
   "source": [
    "# 9) Retrieve Current Bids (to check status or cleanup)\n",
    "\n",
    "from flow.models import Bid\n",
    "\n",
    "\n",
    "def display_bids(bids: List[Bid]) -> None:\n",
    "    \"\"\"Displays the current bids in the project in a tabular format.\n",
    "\n",
    "    Args:\n",
    "        bids: A list of Bid objects.\n",
    "    \"\"\"\n",
    "    if not bids:\n",
    "        logger.info(\"No bids found in the project.\")\n",
    "        print(\"No bids found in the project.\")\n",
    "        return\n",
    "\n",
    "    table_data = []\n",
    "    for idx, b in enumerate(bids, start=1):\n",
    "        table_data.append([idx, b.name, b.id, b.status])\n",
    "\n",
    "    headers = [\"#\", \"Bid Name\", \"Bid ID\", \"Status\"]\n",
    "    print(tabulate(table_data, headers=headers, tablefmt=\"fancy_grid\"))\n",
    "    logger.info(\"Displayed %d bid(s).\", len(bids))\n",
    "\n",
    "\n",
    "def retrieve_and_display_bids(foundry_client: FoundryClient, project_id: str) -> None:\n",
    "    \"\"\"Retrieves and displays all bids for the project.\n",
    "\n",
    "    Args:\n",
    "        foundry_client: The client used to interface with Foundry.\n",
    "        project_id: The project ID.\n",
    "    \"\"\"\n",
    "    bids = foundry_client.get_bids(project_id=project_id)\n",
    "    logger.info(\"Found %d bids in the project.\", len(bids))\n",
    "    display_bids(bids)\n",
    "\n",
    "\n",
    "retrieve_and_display_bids(foundry_client, project_id)"
   ]
  }
 ],
 "metadata": {
  "kernelspec": {
   "display_name": "Python 3 (ipykernel)",
   "language": "python",
   "name": "python3"
  },
  "language_info": {
   "codemirror_mode": {
    "name": "ipython",
    "version": 3
   },
   "file_extension": ".py",
   "mimetype": "text/x-python",
   "name": "python",
   "nbconvert_exporter": "python",
   "pygments_lexer": "ipython3",
   "version": "3.11.6"
  }
 },
 "nbformat": 4,
 "nbformat_minor": 4
}
